{
 "cells": [
  {
   "cell_type": "code",
   "execution_count": 48,
   "metadata": {},
   "outputs": [],
   "source": [
    "import pandas as pd\n",
    "import os"
   ]
  },
  {
   "cell_type": "code",
   "execution_count": 56,
   "metadata": {},
   "outputs": [
    {
     "ename": "ModuleNotFoundError",
     "evalue": "No module named 'unpack_info'",
     "output_type": "error",
     "traceback": [
      "\u001b[0;31m---------------------------------------------------------------------------\u001b[0m",
      "\u001b[0;31mModuleNotFoundError\u001b[0m                       Traceback (most recent call last)",
      "Cell \u001b[0;32mIn[56], line 1\u001b[0m\n\u001b[0;32m----> 1\u001b[0m \u001b[38;5;28;01mfrom\u001b[39;00m \u001b[38;5;21;01munpack_info\u001b[39;00m \u001b[38;5;28;01mimport\u001b[39;00m create_merged_file\n\u001b[1;32m      3\u001b[0m create_merged_file(\u001b[38;5;124m\"\u001b[39m\u001b[38;5;124m./gtfs-mi-kpd/\u001b[39m\u001b[38;5;124m\"\u001b[39m)\n\u001b[1;32m      4\u001b[0m merged_file \u001b[38;5;241m=\u001b[39m os\u001b[38;5;241m.\u001b[39mpath\u001b[38;5;241m.\u001b[39mjoin(\u001b[38;5;124m\"\u001b[39m\u001b[38;5;124m./gtfs-mi-kpd/\u001b[39m\u001b[38;5;124m\"\u001b[39m, \u001b[38;5;124m\"\u001b[39m\u001b[38;5;124mmerged.csv\u001b[39m\u001b[38;5;124m\"\u001b[39m)\n",
      "\u001b[0;31mModuleNotFoundError\u001b[0m: No module named 'unpack_info'"
     ]
    }
   ],
   "source": [
    "from unpack_info import create_merged_file\n",
    "\n",
    "create_merged_file(\"./gtfs-mi-kpd/\")\n",
    "merged_file = os.path.join(\"./gtfs-mi-kpd/\", \"merged.csv\")\n",
    "merged_df = pd.read_csv(merged_file)\n",
    "merged_df"
   ]
  },
  {
   "cell_type": "code",
   "execution_count": 52,
   "metadata": {},
   "outputs": [
    {
     "name": "stderr",
     "output_type": "stream",
     "text": [
      "/var/folders/_s/r6q44yzn7gd7hjnfjjlpb4hm0000gn/T/ipykernel_11032/2314706926.py:23: SettingWithCopyWarning: \n",
      "A value is trying to be set on a copy of a slice from a DataFrame.\n",
      "Try using .loc[row_indexer,col_indexer] = value instead\n",
      "\n",
      "See the caveats in the documentation: https://pandas.pydata.org/pandas-docs/stable/user_guide/indexing.html#returning-a-view-versus-a-copy\n",
      "  next_arrivals[\"arrival_datetime\"] = next_arrivals[[\"arrival_time\", \"date\"]].apply(convert_datetime, axis=1)\n"
     ]
    },
    {
     "data": {
      "text/html": [
       "<div>\n",
       "<style scoped>\n",
       "    .dataframe tbody tr th:only-of-type {\n",
       "        vertical-align: middle;\n",
       "    }\n",
       "\n",
       "    .dataframe tbody tr th {\n",
       "        vertical-align: top;\n",
       "    }\n",
       "\n",
       "    .dataframe thead th {\n",
       "        text-align: right;\n",
       "    }\n",
       "</style>\n",
       "<table border=\"1\" class=\"dataframe\">\n",
       "  <thead>\n",
       "    <tr style=\"text-align: right;\">\n",
       "      <th></th>\n",
       "      <th>trip_headsign</th>\n",
       "      <th>arrival_datetime</th>\n",
       "    </tr>\n",
       "  </thead>\n",
       "  <tbody>\n",
       "    <tr>\n",
       "      <th>133061</th>\n",
       "      <td>Gdynia Cisowa</td>\n",
       "      <td>2024-01-17 12:44:30</td>\n",
       "    </tr>\n",
       "    <tr>\n",
       "      <th>220317</th>\n",
       "      <td>Gdańsk Śródmieście</td>\n",
       "      <td>2024-01-17 12:49:06</td>\n",
       "    </tr>\n",
       "    <tr>\n",
       "      <th>296924</th>\n",
       "      <td>Wejherowo</td>\n",
       "      <td>2024-01-17 12:54:30</td>\n",
       "    </tr>\n",
       "    <tr>\n",
       "      <th>149822</th>\n",
       "      <td>Gdańsk Śródmieście</td>\n",
       "      <td>2024-01-17 12:59:06</td>\n",
       "    </tr>\n",
       "    <tr>\n",
       "      <th>131759</th>\n",
       "      <td>Gdynia Cisowa</td>\n",
       "      <td>2024-01-17 13:04:30</td>\n",
       "    </tr>\n",
       "    <tr>\n",
       "      <th>331910</th>\n",
       "      <td>Gdańsk Śródmieście</td>\n",
       "      <td>2024-01-17 13:09:06</td>\n",
       "    </tr>\n",
       "    <tr>\n",
       "      <th>98166</th>\n",
       "      <td>Wejherowo</td>\n",
       "      <td>2024-01-17 13:14:30</td>\n",
       "    </tr>\n",
       "    <tr>\n",
       "      <th>280149</th>\n",
       "      <td>Gdańsk Śródmieście</td>\n",
       "      <td>2024-01-17 13:19:06</td>\n",
       "    </tr>\n",
       "    <tr>\n",
       "      <th>234256</th>\n",
       "      <td>Gdynia Cisowa</td>\n",
       "      <td>2024-01-17 13:24:30</td>\n",
       "    </tr>\n",
       "    <tr>\n",
       "      <th>365193</th>\n",
       "      <td>Gdańsk Śródmieście</td>\n",
       "      <td>2024-01-17 13:29:06</td>\n",
       "    </tr>\n",
       "  </tbody>\n",
       "</table>\n",
       "</div>"
      ],
      "text/plain": [
       "             trip_headsign    arrival_datetime\n",
       "133061       Gdynia Cisowa 2024-01-17 12:44:30\n",
       "220317  Gdańsk Śródmieście 2024-01-17 12:49:06\n",
       "296924           Wejherowo 2024-01-17 12:54:30\n",
       "149822  Gdańsk Śródmieście 2024-01-17 12:59:06\n",
       "131759       Gdynia Cisowa 2024-01-17 13:04:30\n",
       "331910  Gdańsk Śródmieście 2024-01-17 13:09:06\n",
       "98166            Wejherowo 2024-01-17 13:14:30\n",
       "280149  Gdańsk Śródmieście 2024-01-17 13:19:06\n",
       "234256       Gdynia Cisowa 2024-01-17 13:24:30\n",
       "365193  Gdańsk Śródmieście 2024-01-17 13:29:06"
      ]
     },
     "execution_count": 52,
     "metadata": {},
     "output_type": "execute_result"
    }
   ],
   "source": [
    "from datetime import datetime, timedelta\n",
    "\n",
    "def convert_datetime(rows):\n",
    "    date = rows.date\n",
    "    time = rows.arrival_time\n",
    "\n",
    "    h, m, s = rows.arrival_time.split(\":\")\n",
    "    if h == \"24\":\n",
    "        h = \"00\"\n",
    "        time = f\"{h}:{m}:{s}\"\n",
    "\n",
    "    return datetime.strptime(f\"{date} {time}\", \"%Y%m%d %H:%M:%S\")\n",
    "\n",
    "now = datetime.now()\n",
    "tomorow = now + timedelta(days=1)\n",
    "\n",
    "next_arrivals = merged_df[\n",
    "        ( merged_df[\"stop_id\"] == 7567 )\n",
    "        &\n",
    "        ( merged_df[\"date\"].astype(str).isin([now.strftime(\"%Y%m%d\"), tomorow.strftime(\"%Y%m%d\")]) )\n",
    "]\n",
    "\n",
    "next_arrivals[\"arrival_datetime\"] = next_arrivals[[\"arrival_time\", \"date\"]].apply(convert_datetime, axis=1)\n",
    "next_arrivals = next_arrivals[[\"trip_headsign\", \"arrival_datetime\"]]\n",
    "next_arrivals = next_arrivals[next_arrivals['arrival_datetime'] > now]\n",
    "next_arrivals = next_arrivals.sort_values(\"arrival_datetime\")\n",
    "next_arrivals.head(10)"
   ]
  },
  {
   "cell_type": "code",
   "execution_count": null,
   "metadata": {},
   "outputs": [],
   "source": []
  }
 ],
 "metadata": {
  "kernelspec": {
   "display_name": "gtfs-reader",
   "language": "python",
   "name": "python3"
  },
  "language_info": {
   "codemirror_mode": {
    "name": "ipython",
    "version": 3
   },
   "file_extension": ".py",
   "mimetype": "text/x-python",
   "name": "python",
   "nbconvert_exporter": "python",
   "pygments_lexer": "ipython3",
   "version": "3.11.4"
  }
 },
 "nbformat": 4,
 "nbformat_minor": 2
}
